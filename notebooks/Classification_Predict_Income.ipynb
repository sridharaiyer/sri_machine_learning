{
 "cells": [
  {
   "cell_type": "markdown",
   "metadata": {
    "collapsed": true
   },
   "source": [
    "# Classification Exercise - Solutions"
   ]
  },
  {
   "cell_type": "markdown",
   "metadata": {},
   "source": [
    "We'll be working with some California Census Data, we'll be trying to use various features of an individual to predict what class of income they belogn in (>50k or <=50k). \n",
    "\n",
    "Here is some information about the data:"
   ]
  },
  {
   "cell_type": "markdown",
   "metadata": {},
   "source": [
    "<table>\n",
    "<thead>\n",
    "<tr>\n",
    "<th>Column Name</th>\n",
    "<th>Type</th>\n",
    "<th>Description</th>\n",
    "</tr>\n",
    "</thead>\n",
    "<tbody>\n",
    "<tr>\n",
    "<td>age</td>\n",
    "<td>Continuous</td>\n",
    "<td>The age of the individual</td>\n",
    "</tr>\n",
    "<tr>\n",
    "<td>workclass</td>\n",
    "<td>Categorical</td>\n",
    "<td>The type of employer the  individual has (government,  military, private, etc.).</td>\n",
    "</tr>\n",
    "<tr>\n",
    "<td>fnlwgt</td>\n",
    "<td>Continuous</td>\n",
    "<td>The number of people the census  takers believe that observation  represents (sample weight). This  variable will not be used.</td>\n",
    "</tr>\n",
    "<tr>\n",
    "<td>education</td>\n",
    "<td>Categorical</td>\n",
    "<td>The highest level of education  achieved for that individual.</td>\n",
    "</tr>\n",
    "<tr>\n",
    "<td>education_num</td>\n",
    "<td>Continuous</td>\n",
    "<td>The highest level of education in  numerical form.</td>\n",
    "</tr>\n",
    "<tr>\n",
    "<td>marital_status</td>\n",
    "<td>Categorical</td>\n",
    "<td>Marital status of the individual.</td>\n",
    "</tr>\n",
    "<tr>\n",
    "<td>occupation</td>\n",
    "<td>Categorical</td>\n",
    "<td>The occupation of the individual.</td>\n",
    "</tr>\n",
    "<tr>\n",
    "<td>relationship</td>\n",
    "<td>Categorical</td>\n",
    "<td>Wife, Own-child, Husband,  Not-in-family, Other-relative,  Unmarried.</td>\n",
    "</tr>\n",
    "<tr>\n",
    "<td>race</td>\n",
    "<td>Categorical</td>\n",
    "<td>White, Asian-Pac-Islander,  Amer-Indian-Eskimo, Other, Black.</td>\n",
    "</tr>\n",
    "<tr>\n",
    "<td>gender</td>\n",
    "<td>Categorical</td>\n",
    "<td>Female, Male.</td>\n",
    "</tr>\n",
    "<tr>\n",
    "<td>capital_gain</td>\n",
    "<td>Continuous</td>\n",
    "<td>Capital gains recorded.</td>\n",
    "</tr>\n",
    "<tr>\n",
    "<td>capital_loss</td>\n",
    "<td>Continuous</td>\n",
    "<td>Capital Losses recorded.</td>\n",
    "</tr>\n",
    "<tr>\n",
    "<td>hours_per_week</td>\n",
    "<td>Continuous</td>\n",
    "<td>Hours worked per week.</td>\n",
    "</tr>\n",
    "<tr>\n",
    "<td>native_country</td>\n",
    "<td>Categorical</td>\n",
    "<td>Country of origin of the  individual.</td>\n",
    "</tr>\n",
    "<tr>\n",
    "<td>income</td>\n",
    "<td>Categorical</td>\n",
    "<td>\"&gt;50K\" or \"&lt;=50K\", meaning  whether the person makes more  than \\$50,000 annually.</td>\n",
    "</tr>\n",
    "</tbody>\n",
    "</table>"
   ]
  },
  {
   "cell_type": "code",
   "execution_count": 1,
   "metadata": {
    "collapsed": true
   },
   "outputs": [],
   "source": [
    "import pandas as pd"
   ]
  },
  {
   "cell_type": "code",
   "execution_count": 2,
   "metadata": {
    "collapsed": true
   },
   "outputs": [],
   "source": [
    "census = pd.read_csv('../data/census_data.csv')"
   ]
  },
  {
   "cell_type": "code",
   "execution_count": 3,
   "metadata": {},
   "outputs": [
    {
     "data": {
      "text/html": [
       "<div>\n",
       "<style>\n",
       "    .dataframe thead tr:only-child th {\n",
       "        text-align: right;\n",
       "    }\n",
       "\n",
       "    .dataframe thead th {\n",
       "        text-align: left;\n",
       "    }\n",
       "\n",
       "    .dataframe tbody tr th {\n",
       "        vertical-align: top;\n",
       "    }\n",
       "</style>\n",
       "<table border=\"1\" class=\"dataframe\">\n",
       "  <thead>\n",
       "    <tr style=\"text-align: right;\">\n",
       "      <th></th>\n",
       "      <th>age</th>\n",
       "      <th>workclass</th>\n",
       "      <th>education</th>\n",
       "      <th>education_num</th>\n",
       "      <th>marital_status</th>\n",
       "      <th>occupation</th>\n",
       "      <th>relationship</th>\n",
       "      <th>race</th>\n",
       "      <th>gender</th>\n",
       "      <th>capital_gain</th>\n",
       "      <th>capital_loss</th>\n",
       "      <th>hours_per_week</th>\n",
       "      <th>native_country</th>\n",
       "      <th>income_bracket</th>\n",
       "    </tr>\n",
       "  </thead>\n",
       "  <tbody>\n",
       "    <tr>\n",
       "      <th>0</th>\n",
       "      <td>39</td>\n",
       "      <td>State-gov</td>\n",
       "      <td>Bachelors</td>\n",
       "      <td>13</td>\n",
       "      <td>Never-married</td>\n",
       "      <td>Adm-clerical</td>\n",
       "      <td>Not-in-family</td>\n",
       "      <td>White</td>\n",
       "      <td>Male</td>\n",
       "      <td>2174</td>\n",
       "      <td>0</td>\n",
       "      <td>40</td>\n",
       "      <td>United-States</td>\n",
       "      <td>&lt;=50K</td>\n",
       "    </tr>\n",
       "    <tr>\n",
       "      <th>1</th>\n",
       "      <td>50</td>\n",
       "      <td>Self-emp-not-inc</td>\n",
       "      <td>Bachelors</td>\n",
       "      <td>13</td>\n",
       "      <td>Married-civ-spouse</td>\n",
       "      <td>Exec-managerial</td>\n",
       "      <td>Husband</td>\n",
       "      <td>White</td>\n",
       "      <td>Male</td>\n",
       "      <td>0</td>\n",
       "      <td>0</td>\n",
       "      <td>13</td>\n",
       "      <td>United-States</td>\n",
       "      <td>&lt;=50K</td>\n",
       "    </tr>\n",
       "    <tr>\n",
       "      <th>2</th>\n",
       "      <td>38</td>\n",
       "      <td>Private</td>\n",
       "      <td>HS-grad</td>\n",
       "      <td>9</td>\n",
       "      <td>Divorced</td>\n",
       "      <td>Handlers-cleaners</td>\n",
       "      <td>Not-in-family</td>\n",
       "      <td>White</td>\n",
       "      <td>Male</td>\n",
       "      <td>0</td>\n",
       "      <td>0</td>\n",
       "      <td>40</td>\n",
       "      <td>United-States</td>\n",
       "      <td>&lt;=50K</td>\n",
       "    </tr>\n",
       "    <tr>\n",
       "      <th>3</th>\n",
       "      <td>53</td>\n",
       "      <td>Private</td>\n",
       "      <td>11th</td>\n",
       "      <td>7</td>\n",
       "      <td>Married-civ-spouse</td>\n",
       "      <td>Handlers-cleaners</td>\n",
       "      <td>Husband</td>\n",
       "      <td>Black</td>\n",
       "      <td>Male</td>\n",
       "      <td>0</td>\n",
       "      <td>0</td>\n",
       "      <td>40</td>\n",
       "      <td>United-States</td>\n",
       "      <td>&lt;=50K</td>\n",
       "    </tr>\n",
       "    <tr>\n",
       "      <th>4</th>\n",
       "      <td>28</td>\n",
       "      <td>Private</td>\n",
       "      <td>Bachelors</td>\n",
       "      <td>13</td>\n",
       "      <td>Married-civ-spouse</td>\n",
       "      <td>Prof-specialty</td>\n",
       "      <td>Wife</td>\n",
       "      <td>Black</td>\n",
       "      <td>Female</td>\n",
       "      <td>0</td>\n",
       "      <td>0</td>\n",
       "      <td>40</td>\n",
       "      <td>Cuba</td>\n",
       "      <td>&lt;=50K</td>\n",
       "    </tr>\n",
       "  </tbody>\n",
       "</table>\n",
       "</div>"
      ],
      "text/plain": [
       "   age          workclass   education  education_num       marital_status  \\\n",
       "0   39          State-gov   Bachelors             13        Never-married   \n",
       "1   50   Self-emp-not-inc   Bachelors             13   Married-civ-spouse   \n",
       "2   38            Private     HS-grad              9             Divorced   \n",
       "3   53            Private        11th              7   Married-civ-spouse   \n",
       "4   28            Private   Bachelors             13   Married-civ-spouse   \n",
       "\n",
       "           occupation    relationship    race   gender  capital_gain  \\\n",
       "0        Adm-clerical   Not-in-family   White     Male          2174   \n",
       "1     Exec-managerial         Husband   White     Male             0   \n",
       "2   Handlers-cleaners   Not-in-family   White     Male             0   \n",
       "3   Handlers-cleaners         Husband   Black     Male             0   \n",
       "4      Prof-specialty            Wife   Black   Female             0   \n",
       "\n",
       "   capital_loss  hours_per_week  native_country income_bracket  \n",
       "0             0              40   United-States          <=50K  \n",
       "1             0              13   United-States          <=50K  \n",
       "2             0              40   United-States          <=50K  \n",
       "3             0              40   United-States          <=50K  \n",
       "4             0              40            Cuba          <=50K  "
      ]
     },
     "execution_count": 3,
     "metadata": {},
     "output_type": "execute_result"
    }
   ],
   "source": [
    "census.head()"
   ]
  },
  {
   "cell_type": "code",
   "execution_count": 4,
   "metadata": {},
   "outputs": [
    {
     "data": {
      "text/plain": [
       "array([' <=50K', ' >50K'], dtype=object)"
      ]
     },
     "execution_count": 4,
     "metadata": {},
     "output_type": "execute_result"
    }
   ],
   "source": [
    "census['income_bracket'].unique()"
   ]
  },
  {
   "cell_type": "code",
   "execution_count": 5,
   "metadata": {
    "collapsed": true
   },
   "outputs": [],
   "source": [
    "def label_fix(label):\n",
    "    if label == ' <=50K':\n",
    "        return 0\n",
    "    else:\n",
    "        return 1"
   ]
  },
  {
   "cell_type": "code",
   "execution_count": 6,
   "metadata": {
    "collapsed": true
   },
   "outputs": [],
   "source": [
    "census['income_bracket'] = census['income_bracket'].apply(label_fix)"
   ]
  },
  {
   "cell_type": "code",
   "execution_count": 7,
   "metadata": {},
   "outputs": [
    {
     "data": {
      "text/html": [
       "<div>\n",
       "<style>\n",
       "    .dataframe thead tr:only-child th {\n",
       "        text-align: right;\n",
       "    }\n",
       "\n",
       "    .dataframe thead th {\n",
       "        text-align: left;\n",
       "    }\n",
       "\n",
       "    .dataframe tbody tr th {\n",
       "        vertical-align: top;\n",
       "    }\n",
       "</style>\n",
       "<table border=\"1\" class=\"dataframe\">\n",
       "  <thead>\n",
       "    <tr style=\"text-align: right;\">\n",
       "      <th></th>\n",
       "      <th>age</th>\n",
       "      <th>workclass</th>\n",
       "      <th>education</th>\n",
       "      <th>education_num</th>\n",
       "      <th>marital_status</th>\n",
       "      <th>occupation</th>\n",
       "      <th>relationship</th>\n",
       "      <th>race</th>\n",
       "      <th>gender</th>\n",
       "      <th>capital_gain</th>\n",
       "      <th>capital_loss</th>\n",
       "      <th>hours_per_week</th>\n",
       "      <th>native_country</th>\n",
       "      <th>income_bracket</th>\n",
       "    </tr>\n",
       "  </thead>\n",
       "  <tbody>\n",
       "    <tr>\n",
       "      <th>0</th>\n",
       "      <td>39</td>\n",
       "      <td>State-gov</td>\n",
       "      <td>Bachelors</td>\n",
       "      <td>13</td>\n",
       "      <td>Never-married</td>\n",
       "      <td>Adm-clerical</td>\n",
       "      <td>Not-in-family</td>\n",
       "      <td>White</td>\n",
       "      <td>Male</td>\n",
       "      <td>2174</td>\n",
       "      <td>0</td>\n",
       "      <td>40</td>\n",
       "      <td>United-States</td>\n",
       "      <td>0</td>\n",
       "    </tr>\n",
       "    <tr>\n",
       "      <th>1</th>\n",
       "      <td>50</td>\n",
       "      <td>Self-emp-not-inc</td>\n",
       "      <td>Bachelors</td>\n",
       "      <td>13</td>\n",
       "      <td>Married-civ-spouse</td>\n",
       "      <td>Exec-managerial</td>\n",
       "      <td>Husband</td>\n",
       "      <td>White</td>\n",
       "      <td>Male</td>\n",
       "      <td>0</td>\n",
       "      <td>0</td>\n",
       "      <td>13</td>\n",
       "      <td>United-States</td>\n",
       "      <td>0</td>\n",
       "    </tr>\n",
       "    <tr>\n",
       "      <th>2</th>\n",
       "      <td>38</td>\n",
       "      <td>Private</td>\n",
       "      <td>HS-grad</td>\n",
       "      <td>9</td>\n",
       "      <td>Divorced</td>\n",
       "      <td>Handlers-cleaners</td>\n",
       "      <td>Not-in-family</td>\n",
       "      <td>White</td>\n",
       "      <td>Male</td>\n",
       "      <td>0</td>\n",
       "      <td>0</td>\n",
       "      <td>40</td>\n",
       "      <td>United-States</td>\n",
       "      <td>0</td>\n",
       "    </tr>\n",
       "    <tr>\n",
       "      <th>3</th>\n",
       "      <td>53</td>\n",
       "      <td>Private</td>\n",
       "      <td>11th</td>\n",
       "      <td>7</td>\n",
       "      <td>Married-civ-spouse</td>\n",
       "      <td>Handlers-cleaners</td>\n",
       "      <td>Husband</td>\n",
       "      <td>Black</td>\n",
       "      <td>Male</td>\n",
       "      <td>0</td>\n",
       "      <td>0</td>\n",
       "      <td>40</td>\n",
       "      <td>United-States</td>\n",
       "      <td>0</td>\n",
       "    </tr>\n",
       "    <tr>\n",
       "      <th>4</th>\n",
       "      <td>28</td>\n",
       "      <td>Private</td>\n",
       "      <td>Bachelors</td>\n",
       "      <td>13</td>\n",
       "      <td>Married-civ-spouse</td>\n",
       "      <td>Prof-specialty</td>\n",
       "      <td>Wife</td>\n",
       "      <td>Black</td>\n",
       "      <td>Female</td>\n",
       "      <td>0</td>\n",
       "      <td>0</td>\n",
       "      <td>40</td>\n",
       "      <td>Cuba</td>\n",
       "      <td>0</td>\n",
       "    </tr>\n",
       "  </tbody>\n",
       "</table>\n",
       "</div>"
      ],
      "text/plain": [
       "   age          workclass   education  education_num       marital_status  \\\n",
       "0   39          State-gov   Bachelors             13        Never-married   \n",
       "1   50   Self-emp-not-inc   Bachelors             13   Married-civ-spouse   \n",
       "2   38            Private     HS-grad              9             Divorced   \n",
       "3   53            Private        11th              7   Married-civ-spouse   \n",
       "4   28            Private   Bachelors             13   Married-civ-spouse   \n",
       "\n",
       "           occupation    relationship    race   gender  capital_gain  \\\n",
       "0        Adm-clerical   Not-in-family   White     Male          2174   \n",
       "1     Exec-managerial         Husband   White     Male             0   \n",
       "2   Handlers-cleaners   Not-in-family   White     Male             0   \n",
       "3   Handlers-cleaners         Husband   Black     Male             0   \n",
       "4      Prof-specialty            Wife   Black   Female             0   \n",
       "\n",
       "   capital_loss  hours_per_week  native_country  income_bracket  \n",
       "0             0              40   United-States               0  \n",
       "1             0              13   United-States               0  \n",
       "2             0              40   United-States               0  \n",
       "3             0              40   United-States               0  \n",
       "4             0              40            Cuba               0  "
      ]
     },
     "execution_count": 7,
     "metadata": {},
     "output_type": "execute_result"
    }
   ],
   "source": [
    "census.head()"
   ]
  },
  {
   "cell_type": "code",
   "execution_count": 8,
   "metadata": {
    "collapsed": true
   },
   "outputs": [],
   "source": [
    "from sklearn.model_selection import train_test_split"
   ]
  },
  {
   "cell_type": "code",
   "execution_count": 9,
   "metadata": {
    "collapsed": true
   },
   "outputs": [],
   "source": [
    "x_data = census.drop('income_bracket', axis=1)"
   ]
  },
  {
   "cell_type": "code",
   "execution_count": 10,
   "metadata": {
    "collapsed": true
   },
   "outputs": [],
   "source": [
    "y_labels = census['income_bracket']"
   ]
  },
  {
   "cell_type": "code",
   "execution_count": 11,
   "metadata": {
    "collapsed": true
   },
   "outputs": [],
   "source": [
    "X_train, X_test, y_train, y_test = train_test_split(x_data, y_labels, test_size=0.3, random_state=101)"
   ]
  },
  {
   "cell_type": "markdown",
   "metadata": {},
   "source": [
    "### Create the Feature Columns for tf.esitmator\n",
    "\n",
    "** Take note of categorical vs continuous values! **"
   ]
  },
  {
   "cell_type": "code",
   "execution_count": 12,
   "metadata": {},
   "outputs": [
    {
     "data": {
      "text/plain": [
       "Index(['age', 'workclass', 'education', 'education_num', 'marital_status',\n",
       "       'occupation', 'relationship', 'race', 'gender', 'capital_gain',\n",
       "       'capital_loss', 'hours_per_week', 'native_country', 'income_bracket'],\n",
       "      dtype='object')"
      ]
     },
     "execution_count": 12,
     "metadata": {},
     "output_type": "execute_result"
    }
   ],
   "source": [
    "census.columns"
   ]
  },
  {
   "cell_type": "code",
   "execution_count": 13,
   "metadata": {},
   "outputs": [
    {
     "name": "stderr",
     "output_type": "stream",
     "text": [
      "/Users/sridhariyer/anaconda/envs/srienv/lib/python3.5/site-packages/h5py/__init__.py:34: FutureWarning: Conversion of the second argument of issubdtype from `float` to `np.floating` is deprecated. In future, it will be treated as `np.float64 == np.dtype(float).type`.\n",
      "  from ._conv import register_converters as _register_converters\n"
     ]
    }
   ],
   "source": [
    "import tensorflow as tf"
   ]
  },
  {
   "cell_type": "markdown",
   "metadata": {
    "collapsed": true
   },
   "source": [
    "** Create the tf.feature_columns for the categorical values. Use vocabulary lists or just use hash buckets. **"
   ]
  },
  {
   "cell_type": "code",
   "execution_count": 14,
   "metadata": {
    "collapsed": true
   },
   "outputs": [],
   "source": [
    "gender = tf.feature_column.categorical_column_with_vocabulary_list(\"gender\", ['Female', 'Male'])"
   ]
  },
  {
   "cell_type": "code",
   "execution_count": 16,
   "metadata": {
    "collapsed": true
   },
   "outputs": [],
   "source": [
    "occupation = tf.feature_column.categorical_column_with_hash_bucket(\"occupation\", hash_bucket_size=1000)\n",
    "marital_status = tf.feature_column.categorical_column_with_hash_bucket(\"marital_status\", hash_bucket_size=1000)\n",
    "relationship = tf.feature_column.categorical_column_with_hash_bucket(\"relationship\", hash_bucket_size=1000)\n",
    "education = tf.feature_column.categorical_column_with_hash_bucket(\"education\", hash_bucket_size=1000)\n",
    "workclass = tf.feature_column.categorical_column_with_hash_bucket(\"workclass\", hash_bucket_size=1000)\n",
    "native_country = tf.feature_column.categorical_column_with_hash_bucket(\"native_country\", hash_bucket_size=1000)"
   ]
  },
  {
   "cell_type": "markdown",
   "metadata": {},
   "source": [
    "** Create the continuous feature_columns for the continuous values using numeric_column **"
   ]
  },
  {
   "cell_type": "code",
   "execution_count": 17,
   "metadata": {
    "collapsed": true
   },
   "outputs": [],
   "source": [
    "age = tf.feature_column.numeric_column(\"age\")\n",
    "education_num = tf.feature_column.numeric_column(\"education_num\")\n",
    "capital_gain = tf.feature_column.numeric_column(\"capital_gain\")\n",
    "capital_loss = tf.feature_column.numeric_column(\"capital_loss\")\n",
    "hours_per_week = tf.feature_column.numeric_column(\"hours_per_week\")"
   ]
  },
  {
   "cell_type": "code",
   "execution_count": 18,
   "metadata": {
    "collapsed": true
   },
   "outputs": [],
   "source": [
    "feat_cols = [gender, occupation, marital_status, relationship, education, workclass, native_country, age, \n",
    "             education_num, capital_gain, capital_loss, hours_per_week]"
   ]
  },
  {
   "cell_type": "code",
   "execution_count": 19,
   "metadata": {
    "collapsed": true
   },
   "outputs": [],
   "source": [
    "input_func = tf.estimator.inputs.pandas_input_fn(x=X_train, y=y_train, batch_size=100, \n",
    "                                                 num_epochs=None, shuffle=True)"
   ]
  },
  {
   "cell_type": "code",
   "execution_count": 20,
   "metadata": {},
   "outputs": [
    {
     "name": "stdout",
     "output_type": "stream",
     "text": [
      "INFO:tensorflow:Using default config.\n",
      "WARNING:tensorflow:Using temporary folder as model directory: /var/folders/c5/d8zsz0ss5_54lsffwtj6ph5r0000gn/T/tmp39lbsulg\n",
      "INFO:tensorflow:Using config: {'_master': '', '_is_chief': True, '_keep_checkpoint_max': 5, '_tf_random_seed': None, '_service': None, '_session_config': None, '_log_step_count_steps': 100, '_save_checkpoints_secs': 600, '_save_summary_steps': 100, '_num_worker_replicas': 1, '_global_id_in_cluster': 0, '_task_id': 0, '_train_distribute': None, '_device_fn': None, '_evaluation_master': '', '_task_type': 'worker', '_keep_checkpoint_every_n_hours': 10000, '_cluster_spec': <tensorflow.python.training.server_lib.ClusterSpec object at 0x102c92da0>, '_save_checkpoints_steps': None, '_model_dir': '/var/folders/c5/d8zsz0ss5_54lsffwtj6ph5r0000gn/T/tmp39lbsulg', '_num_ps_replicas': 0}\n"
     ]
    }
   ],
   "source": [
    "model = tf.estimator.LinearClassifier(feature_columns=feat_cols)"
   ]
  },
  {
   "cell_type": "code",
   "execution_count": 21,
   "metadata": {},
   "outputs": [
    {
     "name": "stdout",
     "output_type": "stream",
     "text": [
      "INFO:tensorflow:Calling model_fn.\n",
      "INFO:tensorflow:Done calling model_fn.\n",
      "INFO:tensorflow:Create CheckpointSaverHook.\n",
      "INFO:tensorflow:Graph was finalized.\n",
      "INFO:tensorflow:Running local_init_op.\n",
      "INFO:tensorflow:Done running local_init_op.\n",
      "INFO:tensorflow:Saving checkpoints for 0 into /var/folders/c5/d8zsz0ss5_54lsffwtj6ph5r0000gn/T/tmp39lbsulg/model.ckpt.\n",
      "INFO:tensorflow:loss = 69.31472, step = 1\n",
      "INFO:tensorflow:global_step/sec: 124.642\n",
      "INFO:tensorflow:loss = 904.1395, step = 101 (0.806 sec)\n",
      "INFO:tensorflow:global_step/sec: 191.005\n",
      "INFO:tensorflow:loss = 282.6136, step = 201 (0.523 sec)\n",
      "INFO:tensorflow:global_step/sec: 215.942\n",
      "INFO:tensorflow:loss = 217.82419, step = 301 (0.464 sec)\n",
      "INFO:tensorflow:global_step/sec: 226.59\n",
      "INFO:tensorflow:loss = 547.3348, step = 401 (0.440 sec)\n",
      "INFO:tensorflow:global_step/sec: 236.115\n",
      "INFO:tensorflow:loss = 402.79233, step = 501 (0.424 sec)\n",
      "INFO:tensorflow:global_step/sec: 259.361\n",
      "INFO:tensorflow:loss = 115.74652, step = 601 (0.386 sec)\n",
      "INFO:tensorflow:global_step/sec: 255.197\n",
      "INFO:tensorflow:loss = 426.15012, step = 701 (0.392 sec)\n",
      "INFO:tensorflow:global_step/sec: 231.089\n",
      "INFO:tensorflow:loss = 90.91581, step = 801 (0.430 sec)\n",
      "INFO:tensorflow:global_step/sec: 242.802\n",
      "INFO:tensorflow:loss = 182.64859, step = 901 (0.412 sec)\n",
      "INFO:tensorflow:global_step/sec: 224.174\n",
      "INFO:tensorflow:loss = 58.557262, step = 1001 (0.448 sec)\n",
      "INFO:tensorflow:global_step/sec: 233.553\n",
      "INFO:tensorflow:loss = 87.485794, step = 1101 (0.428 sec)\n",
      "INFO:tensorflow:global_step/sec: 183.911\n",
      "INFO:tensorflow:loss = 27.274755, step = 1201 (0.545 sec)\n",
      "INFO:tensorflow:global_step/sec: 232.086\n",
      "INFO:tensorflow:loss = 59.869587, step = 1301 (0.432 sec)\n",
      "INFO:tensorflow:global_step/sec: 229.681\n",
      "INFO:tensorflow:loss = 209.21489, step = 1401 (0.434 sec)\n",
      "INFO:tensorflow:global_step/sec: 261.95\n",
      "INFO:tensorflow:loss = 1017.67505, step = 1501 (0.380 sec)\n",
      "INFO:tensorflow:global_step/sec: 262.105\n",
      "INFO:tensorflow:loss = 35.91992, step = 1601 (0.383 sec)\n",
      "INFO:tensorflow:global_step/sec: 252.717\n",
      "INFO:tensorflow:loss = 43.949924, step = 1701 (0.397 sec)\n",
      "INFO:tensorflow:global_step/sec: 218.971\n",
      "INFO:tensorflow:loss = 66.43503, step = 1801 (0.457 sec)\n",
      "INFO:tensorflow:global_step/sec: 261.555\n",
      "INFO:tensorflow:loss = 42.430103, step = 1901 (0.383 sec)\n",
      "INFO:tensorflow:global_step/sec: 255.849\n",
      "INFO:tensorflow:loss = 57.86582, step = 2001 (0.390 sec)\n",
      "INFO:tensorflow:global_step/sec: 242.041\n",
      "INFO:tensorflow:loss = 106.65377, step = 2101 (0.415 sec)\n",
      "INFO:tensorflow:global_step/sec: 236.27\n",
      "INFO:tensorflow:loss = 34.924557, step = 2201 (0.422 sec)\n",
      "INFO:tensorflow:global_step/sec: 240.814\n",
      "INFO:tensorflow:loss = 55.947567, step = 2301 (0.415 sec)\n",
      "INFO:tensorflow:global_step/sec: 240.507\n",
      "INFO:tensorflow:loss = 96.077614, step = 2401 (0.416 sec)\n",
      "INFO:tensorflow:global_step/sec: 230.781\n",
      "INFO:tensorflow:loss = 25.768734, step = 2501 (0.433 sec)\n",
      "INFO:tensorflow:global_step/sec: 247.273\n",
      "INFO:tensorflow:loss = 84.158455, step = 2601 (0.404 sec)\n",
      "INFO:tensorflow:global_step/sec: 231.299\n",
      "INFO:tensorflow:loss = 82.45112, step = 2701 (0.432 sec)\n",
      "INFO:tensorflow:global_step/sec: 240.827\n",
      "INFO:tensorflow:loss = 49.296844, step = 2801 (0.415 sec)\n",
      "INFO:tensorflow:global_step/sec: 255.212\n",
      "INFO:tensorflow:loss = 113.930466, step = 2901 (0.392 sec)\n",
      "INFO:tensorflow:global_step/sec: 231.437\n",
      "INFO:tensorflow:loss = 95.99488, step = 3001 (0.432 sec)\n",
      "INFO:tensorflow:global_step/sec: 253.859\n",
      "INFO:tensorflow:loss = 336.70328, step = 3101 (0.394 sec)\n",
      "INFO:tensorflow:global_step/sec: 226.838\n",
      "INFO:tensorflow:loss = 115.902626, step = 3201 (0.441 sec)\n",
      "INFO:tensorflow:global_step/sec: 266.444\n",
      "INFO:tensorflow:loss = 30.499943, step = 3301 (0.375 sec)\n",
      "INFO:tensorflow:global_step/sec: 255.256\n",
      "INFO:tensorflow:loss = 31.354498, step = 3401 (0.392 sec)\n",
      "INFO:tensorflow:global_step/sec: 243.173\n",
      "INFO:tensorflow:loss = 202.93681, step = 3501 (0.411 sec)\n",
      "INFO:tensorflow:global_step/sec: 239.869\n",
      "INFO:tensorflow:loss = 46.349678, step = 3601 (0.417 sec)\n",
      "INFO:tensorflow:global_step/sec: 241.645\n",
      "INFO:tensorflow:loss = 56.59716, step = 3701 (0.414 sec)\n",
      "INFO:tensorflow:global_step/sec: 236.696\n",
      "INFO:tensorflow:loss = 55.574505, step = 3801 (0.424 sec)\n",
      "INFO:tensorflow:global_step/sec: 208.621\n",
      "INFO:tensorflow:loss = 35.49493, step = 3901 (0.479 sec)\n",
      "INFO:tensorflow:global_step/sec: 194.845\n",
      "INFO:tensorflow:loss = 176.67188, step = 4001 (0.511 sec)\n",
      "INFO:tensorflow:global_step/sec: 183.014\n",
      "INFO:tensorflow:loss = 95.03901, step = 4101 (0.549 sec)\n",
      "INFO:tensorflow:global_step/sec: 215.484\n",
      "INFO:tensorflow:loss = 35.056316, step = 4201 (0.465 sec)\n",
      "INFO:tensorflow:global_step/sec: 218.457\n",
      "INFO:tensorflow:loss = 61.010704, step = 4301 (0.455 sec)\n",
      "INFO:tensorflow:global_step/sec: 247.365\n",
      "INFO:tensorflow:loss = 42.45165, step = 4401 (0.404 sec)\n",
      "INFO:tensorflow:global_step/sec: 264.654\n",
      "INFO:tensorflow:loss = 140.694, step = 4501 (0.379 sec)\n",
      "INFO:tensorflow:global_step/sec: 257.244\n",
      "INFO:tensorflow:loss = 56.81139, step = 4601 (0.386 sec)\n",
      "INFO:tensorflow:global_step/sec: 263.425\n",
      "INFO:tensorflow:loss = 89.6102, step = 4701 (0.382 sec)\n",
      "INFO:tensorflow:global_step/sec: 258.935\n",
      "INFO:tensorflow:loss = 30.597813, step = 4801 (0.386 sec)\n",
      "INFO:tensorflow:global_step/sec: 247.451\n",
      "INFO:tensorflow:loss = 31.050365, step = 4901 (0.404 sec)\n",
      "INFO:tensorflow:global_step/sec: 248.217\n",
      "INFO:tensorflow:loss = 51.93593, step = 5001 (0.403 sec)\n",
      "INFO:tensorflow:global_step/sec: 219.823\n",
      "INFO:tensorflow:loss = 38.46485, step = 5101 (0.455 sec)\n",
      "INFO:tensorflow:global_step/sec: 225.54\n",
      "INFO:tensorflow:loss = 40.60918, step = 5201 (0.441 sec)\n",
      "INFO:tensorflow:global_step/sec: 225.132\n",
      "INFO:tensorflow:loss = 58.170616, step = 5301 (0.446 sec)\n",
      "INFO:tensorflow:global_step/sec: 249.031\n",
      "INFO:tensorflow:loss = 88.04909, step = 5401 (0.402 sec)\n",
      "INFO:tensorflow:global_step/sec: 247.732\n",
      "INFO:tensorflow:loss = 49.518894, step = 5501 (0.403 sec)\n",
      "INFO:tensorflow:global_step/sec: 252.781\n",
      "INFO:tensorflow:loss = 113.481766, step = 5601 (0.395 sec)\n",
      "INFO:tensorflow:global_step/sec: 245.134\n",
      "INFO:tensorflow:loss = 51.770332, step = 5701 (0.408 sec)\n",
      "INFO:tensorflow:global_step/sec: 246.138\n",
      "INFO:tensorflow:loss = 25.421394, step = 5801 (0.406 sec)\n",
      "INFO:tensorflow:global_step/sec: 220.561\n",
      "INFO:tensorflow:loss = 52.237595, step = 5901 (0.453 sec)\n",
      "INFO:tensorflow:global_step/sec: 229.86\n",
      "INFO:tensorflow:loss = 42.631493, step = 6001 (0.435 sec)\n",
      "INFO:tensorflow:global_step/sec: 238.581\n",
      "INFO:tensorflow:loss = 384.1195, step = 6101 (0.417 sec)\n",
      "INFO:tensorflow:global_step/sec: 223.929\n",
      "INFO:tensorflow:loss = 49.318333, step = 6201 (0.449 sec)\n",
      "INFO:tensorflow:global_step/sec: 228.068\n",
      "INFO:tensorflow:loss = 52.769455, step = 6301 (0.438 sec)\n",
      "INFO:tensorflow:global_step/sec: 229.284\n",
      "INFO:tensorflow:loss = 27.924599, step = 6401 (0.437 sec)\n",
      "INFO:tensorflow:global_step/sec: 231.201\n",
      "INFO:tensorflow:loss = 31.778095, step = 6501 (0.433 sec)\n",
      "INFO:tensorflow:global_step/sec: 247.939\n",
      "INFO:tensorflow:loss = 33.224483, step = 6601 (0.402 sec)\n",
      "INFO:tensorflow:global_step/sec: 223.293\n",
      "INFO:tensorflow:loss = 27.877604, step = 6701 (0.448 sec)\n",
      "INFO:tensorflow:global_step/sec: 252.931\n",
      "INFO:tensorflow:loss = 41.518425, step = 6801 (0.395 sec)\n",
      "INFO:tensorflow:global_step/sec: 260.389\n",
      "INFO:tensorflow:loss = 102.33414, step = 6901 (0.382 sec)\n",
      "INFO:tensorflow:global_step/sec: 223.114\n",
      "INFO:tensorflow:loss = 40.705303, step = 7001 (0.450 sec)\n",
      "INFO:tensorflow:global_step/sec: 262.48\n",
      "INFO:tensorflow:loss = 57.05686, step = 7101 (0.381 sec)\n",
      "INFO:tensorflow:global_step/sec: 237.083\n",
      "INFO:tensorflow:loss = 32.639595, step = 7201 (0.422 sec)\n",
      "INFO:tensorflow:global_step/sec: 236.268\n",
      "INFO:tensorflow:loss = 45.07547, step = 7301 (0.424 sec)\n",
      "INFO:tensorflow:global_step/sec: 261.507\n",
      "INFO:tensorflow:loss = 43.326885, step = 7401 (0.381 sec)\n",
      "INFO:tensorflow:global_step/sec: 238.949\n",
      "INFO:tensorflow:loss = 38.8315, step = 7501 (0.419 sec)\n",
      "INFO:tensorflow:global_step/sec: 253.155\n",
      "INFO:tensorflow:loss = 47.30153, step = 7601 (0.395 sec)\n",
      "INFO:tensorflow:global_step/sec: 239.683\n",
      "INFO:tensorflow:loss = 96.89126, step = 7701 (0.417 sec)\n",
      "INFO:tensorflow:global_step/sec: 249.827\n",
      "INFO:tensorflow:loss = 23.055548, step = 7801 (0.398 sec)\n",
      "INFO:tensorflow:global_step/sec: 250.438\n",
      "INFO:tensorflow:loss = 28.336046, step = 7901 (0.403 sec)\n",
      "INFO:tensorflow:global_step/sec: 258.501\n"
     ]
    },
    {
     "name": "stdout",
     "output_type": "stream",
     "text": [
      "INFO:tensorflow:loss = 41.871723, step = 8001 (0.384 sec)\n",
      "INFO:tensorflow:global_step/sec: 225.805\n",
      "INFO:tensorflow:loss = 32.94746, step = 8101 (0.443 sec)\n",
      "INFO:tensorflow:global_step/sec: 241.921\n",
      "INFO:tensorflow:loss = 57.357506, step = 8201 (0.413 sec)\n",
      "INFO:tensorflow:global_step/sec: 255.569\n",
      "INFO:tensorflow:loss = 40.21749, step = 8301 (0.394 sec)\n",
      "INFO:tensorflow:global_step/sec: 260.45\n",
      "INFO:tensorflow:loss = 36.175026, step = 8401 (0.383 sec)\n",
      "INFO:tensorflow:global_step/sec: 229.214\n",
      "INFO:tensorflow:loss = 78.20261, step = 8501 (0.436 sec)\n",
      "INFO:tensorflow:global_step/sec: 241.142\n",
      "INFO:tensorflow:loss = 38.5434, step = 8601 (0.415 sec)\n",
      "INFO:tensorflow:global_step/sec: 246.415\n",
      "INFO:tensorflow:loss = 36.122986, step = 8701 (0.405 sec)\n",
      "INFO:tensorflow:global_step/sec: 262.284\n",
      "INFO:tensorflow:loss = 35.192184, step = 8801 (0.382 sec)\n",
      "INFO:tensorflow:global_step/sec: 258.373\n",
      "INFO:tensorflow:loss = 34.218174, step = 8901 (0.387 sec)\n",
      "INFO:tensorflow:global_step/sec: 254.395\n",
      "INFO:tensorflow:loss = 38.559517, step = 9001 (0.393 sec)\n",
      "INFO:tensorflow:global_step/sec: 231.204\n",
      "INFO:tensorflow:loss = 38.436634, step = 9101 (0.432 sec)\n",
      "INFO:tensorflow:global_step/sec: 244.341\n",
      "INFO:tensorflow:loss = 32.88642, step = 9201 (0.408 sec)\n",
      "INFO:tensorflow:global_step/sec: 224.667\n",
      "INFO:tensorflow:loss = 147.48196, step = 9301 (0.446 sec)\n",
      "INFO:tensorflow:global_step/sec: 232.113\n",
      "INFO:tensorflow:loss = 242.11052, step = 9401 (0.431 sec)\n",
      "INFO:tensorflow:global_step/sec: 242.944\n",
      "INFO:tensorflow:loss = 29.953125, step = 9501 (0.412 sec)\n",
      "INFO:tensorflow:global_step/sec: 257.421\n",
      "INFO:tensorflow:loss = 31.929592, step = 9601 (0.389 sec)\n",
      "INFO:tensorflow:global_step/sec: 261.368\n",
      "INFO:tensorflow:loss = 38.14461, step = 9701 (0.382 sec)\n",
      "INFO:tensorflow:global_step/sec: 234.211\n",
      "INFO:tensorflow:loss = 35.349705, step = 9801 (0.427 sec)\n",
      "INFO:tensorflow:global_step/sec: 247.799\n",
      "INFO:tensorflow:loss = 49.938835, step = 9901 (0.404 sec)\n",
      "INFO:tensorflow:Saving checkpoints for 10000 into /var/folders/c5/d8zsz0ss5_54lsffwtj6ph5r0000gn/T/tmp39lbsulg/model.ckpt.\n",
      "INFO:tensorflow:Loss for final step: 42.893993.\n"
     ]
    },
    {
     "data": {
      "text/plain": [
       "<tensorflow.python.estimator.canned.linear.LinearClassifier at 0x10f07e400>"
      ]
     },
     "execution_count": 21,
     "metadata": {},
     "output_type": "execute_result"
    }
   ],
   "source": [
    "model.train(input_fn=input_func, steps=10000)"
   ]
  },
  {
   "cell_type": "code",
   "execution_count": 22,
   "metadata": {
    "collapsed": true
   },
   "outputs": [],
   "source": [
    "pred_fn = tf.estimator.inputs.pandas_input_fn(x=X_test, batch_size=len(X_test), shuffle=False)"
   ]
  },
  {
   "cell_type": "code",
   "execution_count": 24,
   "metadata": {},
   "outputs": [],
   "source": [
    "pred_gen = model.predict(input_fn=pred_fn)"
   ]
  },
  {
   "cell_type": "code",
   "execution_count": 25,
   "metadata": {},
   "outputs": [
    {
     "name": "stdout",
     "output_type": "stream",
     "text": [
      "INFO:tensorflow:Calling model_fn.\n",
      "INFO:tensorflow:Done calling model_fn.\n",
      "INFO:tensorflow:Graph was finalized.\n",
      "INFO:tensorflow:Restoring parameters from /var/folders/c5/d8zsz0ss5_54lsffwtj6ph5r0000gn/T/tmp39lbsulg/model.ckpt-10000\n",
      "INFO:tensorflow:Running local_init_op.\n",
      "INFO:tensorflow:Done running local_init_op.\n"
     ]
    }
   ],
   "source": [
    "predictions = list(pred_gen)"
   ]
  },
  {
   "cell_type": "code",
   "execution_count": 26,
   "metadata": {},
   "outputs": [
    {
     "data": {
      "text/plain": [
       "[{'class_ids': array([0]),\n",
       "  'classes': array([b'0'], dtype=object),\n",
       "  'logistic': array([0.24943076], dtype=float32),\n",
       "  'logits': array([-1.1016505], dtype=float32),\n",
       "  'probabilities': array([0.7505692 , 0.24943078], dtype=float32)},\n",
       " {'class_ids': array([0]),\n",
       "  'classes': array([b'0'], dtype=object),\n",
       "  'logistic': array([0.00011433], dtype=float32),\n",
       "  'logits': array([-9.076344], dtype=float32),\n",
       "  'probabilities': array([9.9988568e-01, 1.1432585e-04], dtype=float32)},\n",
       " {'class_ids': array([0]),\n",
       "  'classes': array([b'0'], dtype=object),\n",
       "  'logistic': array([0.34515125], dtype=float32),\n",
       "  'logits': array([-0.64042157], dtype=float32),\n",
       "  'probabilities': array([0.65484875, 0.34515125], dtype=float32)},\n",
       " {'class_ids': array([0]),\n",
       "  'classes': array([b'0'], dtype=object),\n",
       "  'logistic': array([2.4928453e-05], dtype=float32),\n",
       "  'logits': array([-10.599476], dtype=float32),\n",
       "  'probabilities': array([9.9997509e-01, 2.4928451e-05], dtype=float32)},\n",
       " {'class_ids': array([0]),\n",
       "  'classes': array([b'0'], dtype=object),\n",
       "  'logistic': array([0.4394965], dtype=float32),\n",
       "  'logits': array([-0.24320579], dtype=float32),\n",
       "  'probabilities': array([0.56050354, 0.43949652], dtype=float32)}]"
      ]
     },
     "execution_count": 26,
     "metadata": {},
     "output_type": "execute_result"
    }
   ],
   "source": [
    "predictions[:5]"
   ]
  },
  {
   "cell_type": "code",
   "execution_count": 27,
   "metadata": {
    "collapsed": true
   },
   "outputs": [],
   "source": [
    "final_preds = [pred['class_ids'][0] for pred in predictions]"
   ]
  },
  {
   "cell_type": "code",
   "execution_count": 28,
   "metadata": {
    "collapsed": true
   },
   "outputs": [],
   "source": [
    "from sklearn.metrics import classification_report"
   ]
  },
  {
   "cell_type": "code",
   "execution_count": 29,
   "metadata": {},
   "outputs": [
    {
     "name": "stdout",
     "output_type": "stream",
     "text": [
      "             precision    recall  f1-score   support\n",
      "\n",
      "          0       0.87      0.94      0.91      7436\n",
      "          1       0.75      0.56      0.64      2333\n",
      "\n",
      "avg / total       0.84      0.85      0.84      9769\n",
      "\n"
     ]
    }
   ],
   "source": [
    "print(classification_report(y_test, final_preds))"
   ]
  },
  {
   "cell_type": "code",
   "execution_count": null,
   "metadata": {
    "collapsed": true
   },
   "outputs": [],
   "source": []
  }
 ],
 "metadata": {
  "kernelspec": {
   "display_name": "Python 3",
   "language": "python",
   "name": "python3"
  },
  "language_info": {
   "codemirror_mode": {
    "name": "ipython",
    "version": 3
   },
   "file_extension": ".py",
   "mimetype": "text/x-python",
   "name": "python",
   "nbconvert_exporter": "python",
   "pygments_lexer": "ipython3",
   "version": "3.5.4"
  }
 },
 "nbformat": 4,
 "nbformat_minor": 2
}
